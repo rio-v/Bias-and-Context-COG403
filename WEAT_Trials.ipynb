{
 "cells": [
  {
   "cell_type": "code",
   "execution_count": 1,
   "metadata": {},
   "outputs": [],
   "source": [
    "from gensim.models import Word2Vec, KeyedVectors\n",
    "from gensim.test.utils import common_texts, get_tmpfile, datapath\n",
    "import numpy as np\n",
    "import pickle\n",
    "#Library for WEAT experiments:\n",
    "from responsibly.we import calc_single_weat\n",
    "from responsibly.we.data import WEAT_DATA"
   ]
  },
  {
   "cell_type": "markdown",
   "metadata": {},
   "source": [
    "Enter the filepaths for the trained models below:"
   ]
  },
  {
   "cell_type": "code",
   "execution_count": 2,
   "metadata": {},
   "outputs": [],
   "source": [
    "allredd2014path = 'Reddit/All comments/2014/word2vec-2014-all.model'\n",
    "allredd2019path = 'Reddit/All comments/2019/word2vec-2019-all.model'\n",
    "newsredd2014path = 'Reddit/News comments/2014/word2vec-2014-news.model'\n",
    "newsredd2019path = 'Reddit/News comments/2019/word2vec-2019-news.model'\n",
    "CNNpath = 'News/CNN/word2vec-cnn.model'\n",
    "DailyMailpath = 'News/Daily Mail/word2vec-dm.model'"
   ]
  },
  {
   "cell_type": "markdown",
   "metadata": {},
   "source": [
    "Load the models here:"
   ]
  },
  {
   "cell_type": "code",
   "execution_count": 3,
   "metadata": {},
   "outputs": [],
   "source": [
    "allredd2014 = Word2Vec.load(allredd2014path)\n",
    "allredd2019 = Word2Vec.load(allredd2019path)\n",
    "newsredd2014 = Word2Vec.load(newsredd2014path)\n",
    "newsredd2019 = Word2Vec.load(newsredd2019path)\n",
    "cnn = Word2Vec.load(CNNpath)\n",
    "dm = Word2Vec.load(DailyMailpath)\n",
    "models = [allredd2014, allredd2019, newsredd2014, newsredd2019, cnn, dm]"
   ]
  },
  {
   "cell_type": "markdown",
   "metadata": {},
   "source": [
    "Load the target and attribute words\n",
    "\n",
    "Gender Bias Set 1:"
   ]
  },
  {
   "cell_type": "code",
   "execution_count": 4,
   "metadata": {},
   "outputs": [],
   "source": [
    "malenames = ['john', 'paul', 'mike', 'kevin', 'steve', 'greg', 'jeff', 'bill']\n",
    "femalenames = ['amy', 'joan', 'lisa', 'sarah', 'diana', 'kate', 'ann', 'donna']\n",
    "career = ['executive', 'management', 'professional', 'corporation', 'salary', 'office', 'business', 'career']\n",
    "family = ['home', 'parents', 'children', 'family', 'cousins', 'marriage', 'wedding', 'relatives']\n",
    "#Dictionary form for Responsibly Library use:\n",
    "m1 = {\"name\": \"Male Names\", \"words\": malenames}\n",
    "f1 = {\"name\": \"Female Names\", \"words\": femalenames}\n",
    "c = {\"name\": \"Career Words\", \"words\": career}\n",
    "f = {\"name\": \"Family Words\", \"words\": family}"
   ]
  },
  {
   "cell_type": "markdown",
   "metadata": {},
   "source": [
    "Gender Bias Set 2:"
   ]
  },
  {
   "cell_type": "code",
   "execution_count": 5,
   "metadata": {},
   "outputs": [],
   "source": [
    "math = ['math', 'algebra', 'geometry', 'calculus', 'equations', 'fraction', 'numbers', 'addition']\n",
    "arts = ['poetry', 'art', 'dance', 'literature', 'novel', 'symphony', 'drama', 'sculpture']\n",
    "malepronouns = ['male', 'man', 'boy', 'brother', 'he', 'him', 'his', 'son']\n",
    "femalepronouns = ['female', 'woman', 'girl', 'sister', 'she', 'her', 'hers', 'daughter']\n",
    "#Dictionary form for Responsibly Library use:\n",
    "m = {\"name\": \"Math Words\", \"words\": math}\n",
    "ar = {\"name\": \"Art Words\", \"words\": arts}\n",
    "m2 = {\"name\": \"Male Pronouns\", \"words\": malepronouns}\n",
    "f2 = {\"name\": \"Female Pronouns\", \"words\": femalepronouns}"
   ]
  },
  {
   "cell_type": "markdown",
   "metadata": {},
   "source": [
    "Gender Bias Set 3:"
   ]
  },
  {
   "cell_type": "code",
   "execution_count": 6,
   "metadata": {},
   "outputs": [],
   "source": [
    "science = ['science', 'technology', 'physics', 'chemistry', 'einstein', 'nasa', 'experiment', 'astronomy']\n",
    "arts2 = ['poetry', 'art', 'shakespeare', 'dance', 'literature', 'novel', 'symphony', 'drama']\n",
    "malepronouns2 = ['brother', 'father', 'uncle', 'grandfather', 'son', 'he', 'his', 'him']\n",
    "femalepronouns2 = ['sister', 'mother', 'aunt', 'grandmother', 'daughter', 'she', 'hers', 'her']\n",
    "#Dictionary form for Responsibly Library use:\n",
    "s = {\"name\": \"Science Words\", \"words\": science}\n",
    "ar2 = {\"name\": \"Art Words 2\", \"words\": arts2}\n",
    "m3 = {\"name\": \"Male Pronouns\", \"words\": malepronouns2}\n",
    "f3 = {\"name\": \"Female Pronouns\", \"words\": femalepronouns2}"
   ]
  },
  {
   "cell_type": "markdown",
   "metadata": {},
   "source": [
    "Race Bias Word Sets:"
   ]
  },
  {
   "cell_type": "code",
   "execution_count": 7,
   "metadata": {},
   "outputs": [],
   "source": [
    "whitenames = ['harris', 'nelson', 'robinson', 'thompson', 'moore', 'wright', 'anderson', 'clark', 'jackson'] \n",
    "hispanicnames = ['cruz', 'castro', 'garcia', 'torres', 'martinez', 'gonzalez', 'sanchez', 'lopez', 'rodriguez']\n",
    "asiannames = ['cho', 'wong', 'tang', 'hong', 'kim', 'chen', 'ng', 'wu', 'liu']\n",
    "occupationsH = ['housekeeper', 'artist', 'janitor', 'dancer', 'mechanic', 'photographer', 'baker', 'cashier'] \n",
    "occupationsA = ['professor', 'official', 'secretary', 'conductor', 'physicist', 'scientist', 'chemist', 'accountant'] \n",
    "occupationsW = ['smith', 'blacksmith', 'surveyor', 'sheriff', 'weaver', 'administrator', 'statistician', 'clergy'] \n",
    "#Dictionary form for Responsibly Library use:\n",
    "h = {\"name\": \"Hispanic Names\", \"words\": hispanicnames}\n",
    "a = {\"name\": \"Asian Names\", \"words\": asiannames}\n",
    "w = {\"name\": \"White Names\", \"words\": whitenames}\n",
    "oh = {\"name\": \"Rated Hispanic Occupations\", \"words\": occupationsH}\n",
    "oa = {\"name\": \"Rated Asian Occupations\", \"words\": occupationsA}\n",
    "ow = {\"name\": \"Rated White Occupations\", \"words\": occupationsW}"
   ]
  },
  {
   "cell_type": "markdown",
   "metadata": {},
   "source": [
    "Perfrom the WEAT trials, then load the results into arrays"
   ]
  },
  {
   "cell_type": "code",
   "execution_count": 8,
   "metadata": {},
   "outputs": [],
   "source": [
    "wa = []\n",
    "for i in models:\n",
    "    tmp1 = calc_single_weat(i.wv, ow, oa, w, a, with_pvalue=True)\n",
    "    tmp2 = [tmp1['s']] + [tmp1['d']] + [tmp1['p']]\n",
    "    wa = wa + [tmp2]"
   ]
  },
  {
   "cell_type": "code",
   "execution_count": 9,
   "metadata": {},
   "outputs": [],
   "source": [
    "wh = []\n",
    "for i in models:\n",
    "    tmp1 = calc_single_weat(i.wv, ow, oh, w, h, with_pvalue=True)\n",
    "    tmp2 = [tmp1['s']] + [tmp1['d']] + [tmp1['p']]\n",
    "    wh = wh + [tmp2]"
   ]
  },
  {
   "cell_type": "code",
   "execution_count": 10,
   "metadata": {},
   "outputs": [],
   "source": [
    "ha = []\n",
    "for i in models:\n",
    "    tmp1 = calc_single_weat(i.wv, oh, oa, h, a, with_pvalue=True)\n",
    "    tmp2 = [tmp1['s']] + [tmp1['d']] + [tmp1['p']]\n",
    "    ha = ha + [tmp2]"
   ]
  },
  {
   "cell_type": "code",
   "execution_count": 11,
   "metadata": {},
   "outputs": [],
   "source": [
    "gb1 = []\n",
    "for i in models:\n",
    "    tmp1 = calc_single_weat(i.wv, c, f, m1, f1, with_pvalue=True)\n",
    "    tmp2 = [tmp1['s']] + [tmp1['d']] + [tmp1['p']]\n",
    "    gb1 = gb1 + [tmp2]"
   ]
  },
  {
   "cell_type": "code",
   "execution_count": 12,
   "metadata": {},
   "outputs": [],
   "source": [
    "gb2 = []\n",
    "for i in models:\n",
    "    tmp1 = calc_single_weat(i.wv, m, ar, m2, f2, with_pvalue=True)\n",
    "    tmp2 = [tmp1['s']] + [tmp1['d']] + [tmp1['p']]\n",
    "    gb2 = gb2 + [tmp2]"
   ]
  },
  {
   "cell_type": "code",
   "execution_count": 13,
   "metadata": {},
   "outputs": [],
   "source": [
    "gb3 = []\n",
    "for i in models:\n",
    "    tmp1 = calc_single_weat(i.wv, s, ar2, m2, f2, with_pvalue=True)\n",
    "    tmp2 = [tmp1['s']] + [tmp1['d']] + [tmp1['p']]\n",
    "    gb3 = gb3 + [tmp2]"
   ]
  },
  {
   "cell_type": "markdown",
   "metadata": {},
   "source": [
    "Organize the results into tables"
   ]
  },
  {
   "cell_type": "code",
   "execution_count": 14,
   "metadata": {},
   "outputs": [],
   "source": [
    "import pandas as pd"
   ]
  },
  {
   "cell_type": "code",
   "execution_count": 15,
   "metadata": {},
   "outputs": [
    {
     "data": {
      "text/html": [
       "<style  type=\"text/css\" >\n",
       "</style>  \n",
       "<table id=\"T_735ee190_78fc_11ea_9e50_acde48001122\" > \n",
       "<thead>    <tr> \n",
       "        <th class=\"blank level0\" ></th> \n",
       "        <th class=\"col_heading level0 col0\" >Test Statistic</th> \n",
       "        <th class=\"col_heading level0 col1\" >Effect Size</th> \n",
       "        <th class=\"col_heading level0 col2\" >P-value</th> \n",
       "    </tr></thead> \n",
       "<tbody>    <tr> \n",
       "        <th id=\"T_735ee190_78fc_11ea_9e50_acde48001122level0_row0\" class=\"row_heading level0 row0\" >All-reddit 2014</th> \n",
       "        <td id=\"T_735ee190_78fc_11ea_9e50_acde48001122row0_col0\" class=\"data row0 col0\" >1.2413517162203789</td> \n",
       "        <td id=\"T_735ee190_78fc_11ea_9e50_acde48001122row0_col1\" class=\"data row0 col1\" >1.8197216</td> \n",
       "        <td id=\"T_735ee190_78fc_11ea_9e50_acde48001122row0_col2\" class=\"data row0 col2\" >0.0</td> \n",
       "    </tr>    <tr> \n",
       "        <th id=\"T_735ee190_78fc_11ea_9e50_acde48001122level0_row1\" class=\"row_heading level0 row1\" >All-reddit 2019</th> \n",
       "        <td id=\"T_735ee190_78fc_11ea_9e50_acde48001122row1_col0\" class=\"data row1 col0\" >1.0437299720942974</td> \n",
       "        <td id=\"T_735ee190_78fc_11ea_9e50_acde48001122row1_col1\" class=\"data row1 col1\" >1.9015805</td> \n",
       "        <td id=\"T_735ee190_78fc_11ea_9e50_acde48001122row1_col2\" class=\"data row1 col2\" >0.0</td> \n",
       "    </tr>    <tr> \n",
       "        <th id=\"T_735ee190_78fc_11ea_9e50_acde48001122level0_row2\" class=\"row_heading level0 row2\" >News reddit 2014</th> \n",
       "        <td id=\"T_735ee190_78fc_11ea_9e50_acde48001122row2_col0\" class=\"data row2 col0\" >0.8281081307213753</td> \n",
       "        <td id=\"T_735ee190_78fc_11ea_9e50_acde48001122row2_col1\" class=\"data row2 col1\" >1.6173909</td> \n",
       "        <td id=\"T_735ee190_78fc_11ea_9e50_acde48001122row2_col2\" class=\"data row2 col2\" >0.0001554001554001554</td> \n",
       "    </tr>    <tr> \n",
       "        <th id=\"T_735ee190_78fc_11ea_9e50_acde48001122level0_row3\" class=\"row_heading level0 row3\" >News reddit 2019</th> \n",
       "        <td id=\"T_735ee190_78fc_11ea_9e50_acde48001122row3_col0\" class=\"data row3 col0\" >0.5410954803228378</td> \n",
       "        <td id=\"T_735ee190_78fc_11ea_9e50_acde48001122row3_col1\" class=\"data row3 col1\" >1.1161308</td> \n",
       "        <td id=\"T_735ee190_78fc_11ea_9e50_acde48001122row3_col2\" class=\"data row3 col2\" >0.012665112665112666</td> \n",
       "    </tr>    <tr> \n",
       "        <th id=\"T_735ee190_78fc_11ea_9e50_acde48001122level0_row4\" class=\"row_heading level0 row4\" >CNN</th> \n",
       "        <td id=\"T_735ee190_78fc_11ea_9e50_acde48001122row4_col0\" class=\"data row4 col0\" >1.9621651098132133</td> \n",
       "        <td id=\"T_735ee190_78fc_11ea_9e50_acde48001122row4_col1\" class=\"data row4 col1\" >1.848821</td> \n",
       "        <td id=\"T_735ee190_78fc_11ea_9e50_acde48001122row4_col2\" class=\"data row4 col2\" >0.0</td> \n",
       "    </tr>    <tr> \n",
       "        <th id=\"T_735ee190_78fc_11ea_9e50_acde48001122level0_row5\" class=\"row_heading level0 row5\" >Daily Mail</th> \n",
       "        <td id=\"T_735ee190_78fc_11ea_9e50_acde48001122row5_col0\" class=\"data row5 col0\" >1.8259299732744694</td> \n",
       "        <td id=\"T_735ee190_78fc_11ea_9e50_acde48001122row5_col1\" class=\"data row5 col1\" >1.8966514</td> \n",
       "        <td id=\"T_735ee190_78fc_11ea_9e50_acde48001122row5_col2\" class=\"data row5 col2\" >0.0</td> \n",
       "    </tr></tbody> \n",
       "</table> "
      ],
      "text/plain": [
       "<pandas.io.formats.style.Styler at 0x1a3b12eb70>"
      ]
     },
     "execution_count": 15,
     "metadata": {},
     "output_type": "execute_result"
    }
   ],
   "source": [
    "data1 = np.array([['Gender Bias 1','Test Statistic','Effect Size', 'P-value'],\n",
    "                ['All-reddit 2014',gb1[0][0],gb1[0][1],gb1[0][2]],\n",
    "                ['All-reddit 2019',gb1[1][0],gb1[1][1],gb1[1][2]],\n",
    "                ['News reddit 2014',gb1[2][0],gb1[2][1],gb1[2][2]],\n",
    "                ['News reddit 2019',gb1[3][0],gb1[3][1],gb1[3][2]],\n",
    "                ['CNN',gb1[4][0],gb1[4][1],gb1[4][2]],\n",
    "                ['Daily Mail',gb1[5][0],gb1[5][1],gb1[5][2]]])\n",
    "table1 = pd.DataFrame(data=data1[1:,1:],index=data1[1:,0],columns=data1[0,1:])\n",
    "table1.style\n",
    "#table1.to_csv(r'gb1.csv', index = False)"
   ]
  },
  {
   "cell_type": "code",
   "execution_count": 16,
   "metadata": {},
   "outputs": [
    {
     "data": {
      "text/html": [
       "<style  type=\"text/css\" >\n",
       "</style>  \n",
       "<table id=\"T_741837ee_78fc_11ea_9e50_acde48001122\" > \n",
       "<thead>    <tr> \n",
       "        <th class=\"blank level0\" ></th> \n",
       "        <th class=\"col_heading level0 col0\" >Test Statistic</th> \n",
       "        <th class=\"col_heading level0 col1\" >Effect Size</th> \n",
       "        <th class=\"col_heading level0 col2\" >P-value</th> \n",
       "    </tr></thead> \n",
       "<tbody>    <tr> \n",
       "        <th id=\"T_741837ee_78fc_11ea_9e50_acde48001122level0_row0\" class=\"row_heading level0 row0\" >All-reddit 2014</th> \n",
       "        <td id=\"T_741837ee_78fc_11ea_9e50_acde48001122row0_col0\" class=\"data row0 col0\" >0.0810539536178112</td> \n",
       "        <td id=\"T_741837ee_78fc_11ea_9e50_acde48001122row0_col1\" class=\"data row0 col1\" >0.29211283</td> \n",
       "        <td id=\"T_741837ee_78fc_11ea_9e50_acde48001122row0_col2\" class=\"data row0 col2\" >0.29728049728049727</td> \n",
       "    </tr>    <tr> \n",
       "        <th id=\"T_741837ee_78fc_11ea_9e50_acde48001122level0_row1\" class=\"row_heading level0 row1\" >All-reddit 2019</th> \n",
       "        <td id=\"T_741837ee_78fc_11ea_9e50_acde48001122row1_col0\" class=\"data row1 col0\" >0.33163781464099884</td> \n",
       "        <td id=\"T_741837ee_78fc_11ea_9e50_acde48001122row1_col1\" class=\"data row1 col1\" >1.0507628</td> \n",
       "        <td id=\"T_741837ee_78fc_11ea_9e50_acde48001122row1_col2\" class=\"data row1 col2\" >0.019425019425019424</td> \n",
       "    </tr>    <tr> \n",
       "        <th id=\"T_741837ee_78fc_11ea_9e50_acde48001122level0_row2\" class=\"row_heading level0 row2\" >News reddit 2014</th> \n",
       "        <td id=\"T_741837ee_78fc_11ea_9e50_acde48001122row2_col0\" class=\"data row2 col0\" >-0.17320053628645837</td> \n",
       "        <td id=\"T_741837ee_78fc_11ea_9e50_acde48001122row2_col1\" class=\"data row2 col1\" >-0.8445381</td> \n",
       "        <td id=\"T_741837ee_78fc_11ea_9e50_acde48001122row2_col2\" class=\"data row2 col2\" >0.9497280497280497</td> \n",
       "    </tr>    <tr> \n",
       "        <th id=\"T_741837ee_78fc_11ea_9e50_acde48001122level0_row3\" class=\"row_heading level0 row3\" >News reddit 2019</th> \n",
       "        <td id=\"T_741837ee_78fc_11ea_9e50_acde48001122row3_col0\" class=\"data row3 col0\" >-0.01233102660626173</td> \n",
       "        <td id=\"T_741837ee_78fc_11ea_9e50_acde48001122row3_col1\" class=\"data row3 col1\" >-0.057133097</td> \n",
       "        <td id=\"T_741837ee_78fc_11ea_9e50_acde48001122row3_col2\" class=\"data row3 col2\" >0.5384615384615384</td> \n",
       "    </tr>    <tr> \n",
       "        <th id=\"T_741837ee_78fc_11ea_9e50_acde48001122level0_row4\" class=\"row_heading level0 row4\" >CNN</th> \n",
       "        <td id=\"T_741837ee_78fc_11ea_9e50_acde48001122row4_col0\" class=\"data row4 col0\" >0.0645099114626646</td> \n",
       "        <td id=\"T_741837ee_78fc_11ea_9e50_acde48001122row4_col1\" class=\"data row4 col1\" >0.383465</td> \n",
       "        <td id=\"T_741837ee_78fc_11ea_9e50_acde48001122row4_col2\" class=\"data row4 col2\" >0.23512043512043512</td> \n",
       "    </tr>    <tr> \n",
       "        <th id=\"T_741837ee_78fc_11ea_9e50_acde48001122level0_row5\" class=\"row_heading level0 row5\" >Daily Mail</th> \n",
       "        <td id=\"T_741837ee_78fc_11ea_9e50_acde48001122row5_col0\" class=\"data row5 col0\" >0.16069839522242546</td> \n",
       "        <td id=\"T_741837ee_78fc_11ea_9e50_acde48001122row5_col1\" class=\"data row5 col1\" >1.0351095</td> \n",
       "        <td id=\"T_741837ee_78fc_11ea_9e50_acde48001122row5_col2\" class=\"data row5 col2\" >0.01926961926961927</td> \n",
       "    </tr></tbody> \n",
       "</table> "
      ],
      "text/plain": [
       "<pandas.io.formats.style.Styler at 0x1a4ce10c50>"
      ]
     },
     "execution_count": 16,
     "metadata": {},
     "output_type": "execute_result"
    }
   ],
   "source": [
    "data2 = np.array([['Gender Bias 2','Test Statistic','Effect Size', 'P-value'],\n",
    "                ['All-reddit 2014',gb2[0][0],gb2[0][1],gb2[0][2]],\n",
    "                ['All-reddit 2019',gb2[1][0],gb2[1][1],gb2[1][2]],\n",
    "                ['News reddit 2014',gb2[2][0],gb2[2][1],gb2[2][2]],\n",
    "                ['News reddit 2019',gb2[3][0],gb2[3][1],gb2[3][2]],\n",
    "                ['CNN',gb2[4][0],gb2[4][1],gb2[4][2]],\n",
    "                ['Daily Mail',gb2[5][0],gb2[5][1],gb2[5][2]]])\n",
    "table2 = pd.DataFrame(data=data2[1:,1:],index=data2[1:,0],columns=data2[0,1:])\n",
    "table2.style"
   ]
  },
  {
   "cell_type": "code",
   "execution_count": 17,
   "metadata": {},
   "outputs": [
    {
     "data": {
      "text/html": [
       "<style  type=\"text/css\" >\n",
       "</style>  \n",
       "<table id=\"T_7518f944_78fc_11ea_9e50_acde48001122\" > \n",
       "<thead>    <tr> \n",
       "        <th class=\"blank level0\" ></th> \n",
       "        <th class=\"col_heading level0 col0\" >Test Statistic</th> \n",
       "        <th class=\"col_heading level0 col1\" >Effect Size</th> \n",
       "        <th class=\"col_heading level0 col2\" >P-value</th> \n",
       "    </tr></thead> \n",
       "<tbody>    <tr> \n",
       "        <th id=\"T_7518f944_78fc_11ea_9e50_acde48001122level0_row0\" class=\"row_heading level0 row0\" >All-reddit 2014</th> \n",
       "        <td id=\"T_7518f944_78fc_11ea_9e50_acde48001122row0_col0\" class=\"data row0 col0\" >0.2222072072327137</td> \n",
       "        <td id=\"T_7518f944_78fc_11ea_9e50_acde48001122row0_col1\" class=\"data row0 col1\" >0.69061834</td> \n",
       "        <td id=\"T_7518f944_78fc_11ea_9e50_acde48001122row0_col2\" class=\"data row0 col2\" >0.0937062937062937</td> \n",
       "    </tr>    <tr> \n",
       "        <th id=\"T_7518f944_78fc_11ea_9e50_acde48001122level0_row1\" class=\"row_heading level0 row1\" >All-reddit 2019</th> \n",
       "        <td id=\"T_7518f944_78fc_11ea_9e50_acde48001122row1_col0\" class=\"data row1 col0\" >0.28598892595618963</td> \n",
       "        <td id=\"T_7518f944_78fc_11ea_9e50_acde48001122row1_col1\" class=\"data row1 col1\" >0.7450984</td> \n",
       "        <td id=\"T_7518f944_78fc_11ea_9e50_acde48001122row1_col2\" class=\"data row1 col2\" >0.07785547785547786</td> \n",
       "    </tr>    <tr> \n",
       "        <th id=\"T_7518f944_78fc_11ea_9e50_acde48001122level0_row2\" class=\"row_heading level0 row2\" >News reddit 2014</th> \n",
       "        <td id=\"T_7518f944_78fc_11ea_9e50_acde48001122row2_col0\" class=\"data row2 col0\" >-0.04230051743797958</td> \n",
       "        <td id=\"T_7518f944_78fc_11ea_9e50_acde48001122row2_col1\" class=\"data row2 col1\" >-0.15516394</td> \n",
       "        <td id=\"T_7518f944_78fc_11ea_9e50_acde48001122row2_col2\" class=\"data row2 col2\" >0.6121989121989122</td> \n",
       "    </tr>    <tr> \n",
       "        <th id=\"T_7518f944_78fc_11ea_9e50_acde48001122level0_row3\" class=\"row_heading level0 row3\" >News reddit 2019</th> \n",
       "        <td id=\"T_7518f944_78fc_11ea_9e50_acde48001122row3_col0\" class=\"data row3 col0\" >-0.2506593745201826</td> \n",
       "        <td id=\"T_7518f944_78fc_11ea_9e50_acde48001122row3_col1\" class=\"data row3 col1\" >-0.83299977</td> \n",
       "        <td id=\"T_7518f944_78fc_11ea_9e50_acde48001122row3_col2\" class=\"data row3 col2\" >0.9445998445998446</td> \n",
       "    </tr>    <tr> \n",
       "        <th id=\"T_7518f944_78fc_11ea_9e50_acde48001122level0_row4\" class=\"row_heading level0 row4\" >CNN</th> \n",
       "        <td id=\"T_7518f944_78fc_11ea_9e50_acde48001122row4_col0\" class=\"data row4 col0\" >0.1472798865288496</td> \n",
       "        <td id=\"T_7518f944_78fc_11ea_9e50_acde48001122row4_col1\" class=\"data row4 col1\" >0.82023704</td> \n",
       "        <td id=\"T_7518f944_78fc_11ea_9e50_acde48001122row4_col2\" class=\"data row4 col2\" >0.05617715617715618</td> \n",
       "    </tr>    <tr> \n",
       "        <th id=\"T_7518f944_78fc_11ea_9e50_acde48001122level0_row5\" class=\"row_heading level0 row5\" >Daily Mail</th> \n",
       "        <td id=\"T_7518f944_78fc_11ea_9e50_acde48001122row5_col0\" class=\"data row5 col0\" >0.13448761589825153</td> \n",
       "        <td id=\"T_7518f944_78fc_11ea_9e50_acde48001122row5_col1\" class=\"data row5 col1\" >0.6536375</td> \n",
       "        <td id=\"T_7518f944_78fc_11ea_9e50_acde48001122row5_col2\" class=\"data row5 col2\" >0.1062937062937063</td> \n",
       "    </tr></tbody> \n",
       "</table> "
      ],
      "text/plain": [
       "<pandas.io.formats.style.Styler at 0x1a4ce10fd0>"
      ]
     },
     "execution_count": 17,
     "metadata": {},
     "output_type": "execute_result"
    }
   ],
   "source": [
    "data3 = np.array([['Gender Bias 3','Test Statistic','Effect Size', 'P-value'],\n",
    "                ['All-reddit 2014',gb3[0][0],gb3[0][1],gb3[0][2]],\n",
    "                ['All-reddit 2019',gb3[1][0],gb3[1][1],gb3[1][2]],\n",
    "                ['News reddit 2014',gb3[2][0],gb3[2][1],gb3[2][2]],\n",
    "                ['News reddit 2019',gb3[3][0],gb3[3][1],gb3[3][2]],\n",
    "                ['CNN',gb3[4][0],gb3[4][1],gb3[4][2]],\n",
    "                ['Daily Mail',gb3[5][0],gb3[5][1],gb3[5][2]]])\n",
    "table3 = pd.DataFrame(data=data3[1:,1:],index=data3[1:,0],columns=data3[0,1:])\n",
    "table3.style"
   ]
  },
  {
   "cell_type": "code",
   "execution_count": 18,
   "metadata": {},
   "outputs": [
    {
     "data": {
      "text/html": [
       "<style  type=\"text/css\" >\n",
       "</style>  \n",
       "<table id=\"T_75ad0148_78fc_11ea_9e50_acde48001122\" > \n",
       "<thead>    <tr> \n",
       "        <th class=\"blank level0\" ></th> \n",
       "        <th class=\"col_heading level0 col0\" >Test Statistic</th> \n",
       "        <th class=\"col_heading level0 col1\" >Effect Size</th> \n",
       "        <th class=\"col_heading level0 col2\" >P-value</th> \n",
       "    </tr></thead> \n",
       "<tbody>    <tr> \n",
       "        <th id=\"T_75ad0148_78fc_11ea_9e50_acde48001122level0_row0\" class=\"row_heading level0 row0\" >All-reddit 2014</th> \n",
       "        <td id=\"T_75ad0148_78fc_11ea_9e50_acde48001122row0_col0\" class=\"data row0 col0\" >-0.304106991738081</td> \n",
       "        <td id=\"T_75ad0148_78fc_11ea_9e50_acde48001122row0_col1\" class=\"data row0 col1\" >-0.31037858</td> \n",
       "        <td id=\"T_75ad0148_78fc_11ea_9e50_acde48001122row0_col2\" class=\"data row0 col2\" >0.7160062160062161</td> \n",
       "    </tr>    <tr> \n",
       "        <th id=\"T_75ad0148_78fc_11ea_9e50_acde48001122level0_row1\" class=\"row_heading level0 row1\" >All-reddit 2019</th> \n",
       "        <td id=\"T_75ad0148_78fc_11ea_9e50_acde48001122row1_col0\" class=\"data row1 col0\" >-0.16155359894037247</td> \n",
       "        <td id=\"T_75ad0148_78fc_11ea_9e50_acde48001122row1_col1\" class=\"data row1 col1\" >-0.17222533</td> \n",
       "        <td id=\"T_75ad0148_78fc_11ea_9e50_acde48001122row1_col2\" class=\"data row1 col2\" >0.6204351204351204</td> \n",
       "    </tr>    <tr> \n",
       "        <th id=\"T_75ad0148_78fc_11ea_9e50_acde48001122level0_row2\" class=\"row_heading level0 row2\" >News reddit 2014</th> \n",
       "        <td id=\"T_75ad0148_78fc_11ea_9e50_acde48001122row2_col0\" class=\"data row2 col0\" >0.20601311326026917</td> \n",
       "        <td id=\"T_75ad0148_78fc_11ea_9e50_acde48001122row2_col1\" class=\"data row2 col1\" >0.3275757</td> \n",
       "        <td id=\"T_75ad0148_78fc_11ea_9e50_acde48001122row2_col2\" class=\"data row2 col2\" >0.27024087024087023</td> \n",
       "    </tr>    <tr> \n",
       "        <th id=\"T_75ad0148_78fc_11ea_9e50_acde48001122level0_row3\" class=\"row_heading level0 row3\" >News reddit 2019</th> \n",
       "        <td id=\"T_75ad0148_78fc_11ea_9e50_acde48001122row3_col0\" class=\"data row3 col0\" >0.2685485314577818</td> \n",
       "        <td id=\"T_75ad0148_78fc_11ea_9e50_acde48001122row3_col1\" class=\"data row3 col1\" >0.40114316</td> \n",
       "        <td id=\"T_75ad0148_78fc_11ea_9e50_acde48001122row3_col2\" class=\"data row3 col2\" >0.2243978243978244</td> \n",
       "    </tr>    <tr> \n",
       "        <th id=\"T_75ad0148_78fc_11ea_9e50_acde48001122level0_row4\" class=\"row_heading level0 row4\" >CNN</th> \n",
       "        <td id=\"T_75ad0148_78fc_11ea_9e50_acde48001122row4_col0\" class=\"data row4 col0\" >0.8372728452086449</td> \n",
       "        <td id=\"T_75ad0148_78fc_11ea_9e50_acde48001122row4_col1\" class=\"data row4 col1\" >1.1302943</td> \n",
       "        <td id=\"T_75ad0148_78fc_11ea_9e50_acde48001122row4_col2\" class=\"data row4 col2\" >0.009634809634809635</td> \n",
       "    </tr>    <tr> \n",
       "        <th id=\"T_75ad0148_78fc_11ea_9e50_acde48001122level0_row5\" class=\"row_heading level0 row5\" >Daily Mail</th> \n",
       "        <td id=\"T_75ad0148_78fc_11ea_9e50_acde48001122row5_col0\" class=\"data row5 col0\" >0.7077541351318359</td> \n",
       "        <td id=\"T_75ad0148_78fc_11ea_9e50_acde48001122row5_col1\" class=\"data row5 col1\" >0.96916765</td> \n",
       "        <td id=\"T_75ad0148_78fc_11ea_9e50_acde48001122row5_col2\" class=\"data row5 col2\" >0.021445221445221447</td> \n",
       "    </tr></tbody> \n",
       "</table> "
      ],
      "text/plain": [
       "<pandas.io.formats.style.Styler at 0x1a4d69f748>"
      ]
     },
     "execution_count": 18,
     "metadata": {},
     "output_type": "execute_result"
    }
   ],
   "source": [
    "data4 = np.array([['','Test Statistic','Effect Size', 'P-value'],\n",
    "                ['All-reddit 2014',wa[0][0],wa[0][1],wa[0][2]],\n",
    "                ['All-reddit 2019',wa[1][0],wa[1][1],wa[1][2]],\n",
    "                ['News reddit 2014',wa[2][0],wa[2][1],wa[2][2]],\n",
    "                ['News reddit 2019',wa[3][0],wa[3][1],wa[3][2]],\n",
    "                ['CNN',wa[4][0],wa[4][1],wa[4][2]],\n",
    "                ['Daily Mail',wa[5][0],wa[5][1],wa[5][2]]])\n",
    "table4 = pd.DataFrame(data=data4[1:,1:],index=data4[1:,0],columns=data4[0,1:])\n",
    "table4.style"
   ]
  },
  {
   "cell_type": "code",
   "execution_count": 19,
   "metadata": {},
   "outputs": [
    {
     "data": {
      "text/html": [
       "<style  type=\"text/css\" >\n",
       "</style>  \n",
       "<table id=\"T_76123842_78fc_11ea_9e50_acde48001122\" > \n",
       "<thead>    <tr> \n",
       "        <th class=\"blank level0\" ></th> \n",
       "        <th class=\"col_heading level0 col0\" >Test Statistic</th> \n",
       "        <th class=\"col_heading level0 col1\" >Effect Size</th> \n",
       "        <th class=\"col_heading level0 col2\" >P-value</th> \n",
       "    </tr></thead> \n",
       "<tbody>    <tr> \n",
       "        <th id=\"T_76123842_78fc_11ea_9e50_acde48001122level0_row0\" class=\"row_heading level0 row0\" >All-reddit 2014</th> \n",
       "        <td id=\"T_76123842_78fc_11ea_9e50_acde48001122row0_col0\" class=\"data row0 col0\" >-0.37080997601151466</td> \n",
       "        <td id=\"T_76123842_78fc_11ea_9e50_acde48001122row0_col1\" class=\"data row0 col1\" >-1.0345546</td> \n",
       "        <td id=\"T_76123842_78fc_11ea_9e50_acde48001122row0_col2\" class=\"data row0 col2\" >0.9785547785547786</td> \n",
       "    </tr>    <tr> \n",
       "        <th id=\"T_76123842_78fc_11ea_9e50_acde48001122level0_row1\" class=\"row_heading level0 row1\" >All-reddit 2019</th> \n",
       "        <td id=\"T_76123842_78fc_11ea_9e50_acde48001122row1_col0\" class=\"data row1 col0\" >-0.06551927886903286</td> \n",
       "        <td id=\"T_76123842_78fc_11ea_9e50_acde48001122row1_col1\" class=\"data row1 col1\" >-0.14851746</td> \n",
       "        <td id=\"T_76123842_78fc_11ea_9e50_acde48001122row1_col2\" class=\"data row1 col2\" >0.5968919968919969</td> \n",
       "    </tr>    <tr> \n",
       "        <th id=\"T_76123842_78fc_11ea_9e50_acde48001122level0_row2\" class=\"row_heading level0 row2\" >News reddit 2014</th> \n",
       "        <td id=\"T_76123842_78fc_11ea_9e50_acde48001122row2_col0\" class=\"data row2 col0\" >-0.3455642946064472</td> \n",
       "        <td id=\"T_76123842_78fc_11ea_9e50_acde48001122row2_col1\" class=\"data row2 col1\" >-0.6926632</td> \n",
       "        <td id=\"T_76123842_78fc_11ea_9e50_acde48001122row2_col2\" class=\"data row2 col2\" >0.9069153069153069</td> \n",
       "    </tr>    <tr> \n",
       "        <th id=\"T_76123842_78fc_11ea_9e50_acde48001122level0_row3\" class=\"row_heading level0 row3\" >News reddit 2019</th> \n",
       "        <td id=\"T_76123842_78fc_11ea_9e50_acde48001122row3_col0\" class=\"data row3 col0\" >0.019460588693618774</td> \n",
       "        <td id=\"T_76123842_78fc_11ea_9e50_acde48001122row3_col1\" class=\"data row3 col1\" >0.041539636</td> \n",
       "        <td id=\"T_76123842_78fc_11ea_9e50_acde48001122row3_col2\" class=\"data row3 col2\" >0.47086247086247085</td> \n",
       "    </tr>    <tr> \n",
       "        <th id=\"T_76123842_78fc_11ea_9e50_acde48001122level0_row4\" class=\"row_heading level0 row4\" >CNN</th> \n",
       "        <td id=\"T_76123842_78fc_11ea_9e50_acde48001122row4_col0\" class=\"data row4 col0\" >0.3032882437109947</td> \n",
       "        <td id=\"T_76123842_78fc_11ea_9e50_acde48001122row4_col1\" class=\"data row4 col1\" >0.75652456</td> \n",
       "        <td id=\"T_76123842_78fc_11ea_9e50_acde48001122row4_col2\" class=\"data row4 col2\" >0.07296037296037296</td> \n",
       "    </tr>    <tr> \n",
       "        <th id=\"T_76123842_78fc_11ea_9e50_acde48001122level0_row5\" class=\"row_heading level0 row5\" >Daily Mail</th> \n",
       "        <td id=\"T_76123842_78fc_11ea_9e50_acde48001122row5_col0\" class=\"data row5 col0\" >0.5792701914906502</td> \n",
       "        <td id=\"T_76123842_78fc_11ea_9e50_acde48001122row5_col1\" class=\"data row5 col1\" >0.77291626</td> \n",
       "        <td id=\"T_76123842_78fc_11ea_9e50_acde48001122row5_col2\" class=\"data row5 col2\" >0.07024087024087024</td> \n",
       "    </tr></tbody> \n",
       "</table> "
      ],
      "text/plain": [
       "<pandas.io.formats.style.Styler at 0x1a4d69f940>"
      ]
     },
     "execution_count": 19,
     "metadata": {},
     "output_type": "execute_result"
    }
   ],
   "source": [
    "data5 = np.array([['','Test Statistic','Effect Size', 'P-value'],\n",
    "                ['All-reddit 2014',wh[0][0],wh[0][1],wh[0][2]],\n",
    "                ['All-reddit 2019',wh[1][0],wh[1][1],wh[1][2]],\n",
    "                ['News reddit 2014',wh[2][0],wh[2][1],wh[2][2]],\n",
    "                ['News reddit 2019',wh[3][0],wh[3][1],wh[3][2]],\n",
    "                ['CNN',wh[4][0],wh[4][1],wh[4][2]],\n",
    "                ['Daily Mail',wh[5][0],wh[5][1],wh[5][2]]])\n",
    "table5 = pd.DataFrame(data=data5[1:,1:],index=data5[1:,0],columns=data5[0,1:])\n",
    "table5.style"
   ]
  },
  {
   "cell_type": "code",
   "execution_count": 20,
   "metadata": {},
   "outputs": [
    {
     "data": {
      "text/html": [
       "<style  type=\"text/css\" >\n",
       "</style>  \n",
       "<table id=\"T_766a5c48_78fc_11ea_9e50_acde48001122\" > \n",
       "<thead>    <tr> \n",
       "        <th class=\"blank level0\" ></th> \n",
       "        <th class=\"col_heading level0 col0\" >Test Statistic</th> \n",
       "        <th class=\"col_heading level0 col1\" >Effect Size</th> \n",
       "        <th class=\"col_heading level0 col2\" >P-value</th> \n",
       "    </tr></thead> \n",
       "<tbody>    <tr> \n",
       "        <th id=\"T_766a5c48_78fc_11ea_9e50_acde48001122level0_row0\" class=\"row_heading level0 row0\" >All-reddit 2014</th> \n",
       "        <td id=\"T_766a5c48_78fc_11ea_9e50_acde48001122row0_col0\" class=\"data row0 col0\" >-0.12768082693219185</td> \n",
       "        <td id=\"T_766a5c48_78fc_11ea_9e50_acde48001122row0_col1\" class=\"data row0 col1\" >-0.26442394</td> \n",
       "        <td id=\"T_766a5c48_78fc_11ea_9e50_acde48001122row0_col2\" class=\"data row0 col2\" >0.6862470862470863</td> \n",
       "    </tr>    <tr> \n",
       "        <th id=\"T_766a5c48_78fc_11ea_9e50_acde48001122level0_row1\" class=\"row_heading level0 row1\" >All-reddit 2019</th> \n",
       "        <td id=\"T_766a5c48_78fc_11ea_9e50_acde48001122row1_col0\" class=\"data row1 col0\" >-0.010774673894047737</td> \n",
       "        <td id=\"T_766a5c48_78fc_11ea_9e50_acde48001122row1_col1\" class=\"data row1 col1\" >-0.027974308</td> \n",
       "        <td id=\"T_766a5c48_78fc_11ea_9e50_acde48001122row1_col2\" class=\"data row1 col2\" >0.5201243201243201</td> \n",
       "    </tr>    <tr> \n",
       "        <th id=\"T_766a5c48_78fc_11ea_9e50_acde48001122level0_row2\" class=\"row_heading level0 row2\" >News reddit 2014</th> \n",
       "        <td id=\"T_766a5c48_78fc_11ea_9e50_acde48001122row2_col0\" class=\"data row2 col0\" >0.09455516561865807</td> \n",
       "        <td id=\"T_766a5c48_78fc_11ea_9e50_acde48001122row2_col1\" class=\"data row2 col1\" >0.19057792</td> \n",
       "        <td id=\"T_766a5c48_78fc_11ea_9e50_acde48001122row2_col2\" class=\"data row2 col2\" >0.36083916083916084</td> \n",
       "    </tr>    <tr> \n",
       "        <th id=\"T_766a5c48_78fc_11ea_9e50_acde48001122level0_row3\" class=\"row_heading level0 row3\" >News reddit 2019</th> \n",
       "        <td id=\"T_766a5c48_78fc_11ea_9e50_acde48001122row3_col0\" class=\"data row3 col0\" >-0.029982417821884155</td> \n",
       "        <td id=\"T_766a5c48_78fc_11ea_9e50_acde48001122row3_col1\" class=\"data row3 col1\" >-0.108522706</td> \n",
       "        <td id=\"T_766a5c48_78fc_11ea_9e50_acde48001122row3_col2\" class=\"data row3 col2\" >0.5807303807303807</td> \n",
       "    </tr>    <tr> \n",
       "        <th id=\"T_766a5c48_78fc_11ea_9e50_acde48001122level0_row4\" class=\"row_heading level0 row4\" >CNN</th> \n",
       "        <td id=\"T_766a5c48_78fc_11ea_9e50_acde48001122row4_col0\" class=\"data row4 col0\" >0.5796383991837502</td> \n",
       "        <td id=\"T_766a5c48_78fc_11ea_9e50_acde48001122row4_col1\" class=\"data row4 col1\" >0.90987927</td> \n",
       "        <td id=\"T_766a5c48_78fc_11ea_9e50_acde48001122row4_col2\" class=\"data row4 col2\" >0.03838383838383838</td> \n",
       "    </tr>    <tr> \n",
       "        <th id=\"T_766a5c48_78fc_11ea_9e50_acde48001122level0_row5\" class=\"row_heading level0 row5\" >Daily Mail</th> \n",
       "        <td id=\"T_766a5c48_78fc_11ea_9e50_acde48001122row5_col0\" class=\"data row5 col0\" >0.06448941305279732</td> \n",
       "        <td id=\"T_766a5c48_78fc_11ea_9e50_acde48001122row5_col1\" class=\"data row5 col1\" >0.1623503</td> \n",
       "        <td id=\"T_766a5c48_78fc_11ea_9e50_acde48001122row5_col2\" class=\"data row5 col2\" >0.37995337995337997</td> \n",
       "    </tr></tbody> \n",
       "</table> "
      ],
      "text/plain": [
       "<pandas.io.formats.style.Styler at 0x1a4d0813c8>"
      ]
     },
     "execution_count": 20,
     "metadata": {},
     "output_type": "execute_result"
    }
   ],
   "source": [
    "data6 = np.array([['','Test Statistic','Effect Size', 'P-value'],\n",
    "                ['All-reddit 2014',ha[0][0],ha[0][1],ha[0][2]],\n",
    "                ['All-reddit 2019',ha[1][0],ha[1][1],ha[1][2]],\n",
    "                ['News reddit 2014',ha[2][0],ha[2][1],ha[2][2]],\n",
    "                ['News reddit 2019',ha[3][0],ha[3][1],ha[3][2]],\n",
    "                ['CNN',ha[4][0],ha[4][1],ha[4][2]],\n",
    "                ['Daily Mail',ha[5][0],ha[5][1],ha[5][2]]])\n",
    "table6 = pd.DataFrame(data=data6[1:,1:],index=data6[1:,0],columns=data6[0,1:])\n",
    "table6.style"
   ]
  },
  {
   "cell_type": "code",
   "execution_count": null,
   "metadata": {},
   "outputs": [],
   "source": []
  },
  {
   "cell_type": "code",
   "execution_count": null,
   "metadata": {},
   "outputs": [],
   "source": []
  }
 ],
 "metadata": {
  "kernelspec": {
   "display_name": "Python 3",
   "language": "python",
   "name": "python3"
  },
  "language_info": {
   "codemirror_mode": {
    "name": "ipython",
    "version": 3
   },
   "file_extension": ".py",
   "mimetype": "text/x-python",
   "name": "python",
   "nbconvert_exporter": "python",
   "pygments_lexer": "ipython3",
   "version": "3.7.0"
  }
 },
 "nbformat": 4,
 "nbformat_minor": 2
}
